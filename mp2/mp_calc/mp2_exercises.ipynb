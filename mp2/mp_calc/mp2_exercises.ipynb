{
 "cells": [
  {
   "cell_type": "markdown",
   "metadata": {},
   "source": [
    "# Mini Project: Sorting and Evaluating Math Expressions"
   ]
  },
  {
   "cell_type": "markdown",
   "metadata": {},
   "source": [
    "## Week 3"
   ]
  },
  {
   "cell_type": "markdown",
   "metadata": {},
   "source": [
    "**Q1.** *Mergesort:* Modify your `mergesort(array)` function that you did in your cohort session to take one additional argument called `byfunc`, i.e. `mergesort(array, byfunc)`. If the caller does not specify the value of `byfunc`, its default value is `None`. When this argument is `None`, the function `mergesort` behaves similar to your cohort session by sorting the array according to its values. However, when the value of this argument is not `None` but rather some other function, your `mergesort` function should sort the array according to the value returned by this function. \n",
    "\n",
    "For example, instead of sorting an array of integers, we want to sort an array of tupple.\n",
    "```python\n",
    "array = [(1, 2), (3, 2), (2, -1), (4, 7), (-1, -2)]\n",
    "```\n",
    "We can define a function say `select()` as follows:\n",
    "```python\n",
    "def select(item):\n",
    "    return item[0]\n",
    "```\n",
    "\n",
    "You can then should be able to call your `mergesort()` function in the following:\n",
    "```python\n",
    "mergesort(array, select)\n",
    "```\n",
    "which will sort the list of tuples according to the value of its *first* element (recall `item[0]` in `select()`). This means that if you want to sort based on the *second* element of the tuple, you can redefine select as:\n",
    "```python\n",
    "def select(item):\n",
    "    return item[1]\n",
    "```\n",
    "\n",
    "You can also apply this to a list of objects, say `User` class objects.\n",
    "```python\n",
    "array = [<User 1>, <User 2>, <User 3>, ..., <User 101>]\n",
    "```\n",
    "You can define the following `select()` function to sort according to its `username` attribute.\n",
    "```python\n",
    "def select(item):\n",
    "    return item.username\n",
    "```\n",
    "\n",
    "You can then call the `mergesort()` function as follows:\n",
    "```python\n",
    "mergesort(array, select)\n",
    "```\n",
    "\n",
    "Python allows you to write [lambda functions](https://realpython.com/python-lambda/) to replace your `select()` function definition. You can simply call merge sort with the following without defining `select()`.\n",
    "```python\n",
    "mergesort(array, lambda item: item.username)\n",
    "```"
   ]
  },
  {
   "cell_type": "code",
   "execution_count": 2,
   "metadata": {},
   "outputs": [
    {
     "name": "stdout",
     "output_type": "stream",
     "text": [
      "[(-1, -2), (2, -1), (3, 2), (1, 2), (4, 7)]\n"
     ]
    }
   ],
   "source": [
    "# def mergesort(array, byfunc=None):\n",
    "\n",
    "def merge(array, p, q, r, byfunc=None):\n",
    "    Aleft = array[p:q+1]\n",
    "    n_left = len(Aleft)\n",
    "    left = 0\n",
    "    Aright = array[q+1 : r+1]\n",
    "    n_right = len(Aright)\n",
    "    right = 0\n",
    "    dest = p\n",
    "    \n",
    "    \n",
    "    while left < n_left and right < n_right:\n",
    "        if byfunc(Aleft[left]) < byfunc(Aright[right]):\n",
    "            array[dest] = Aleft[left]\n",
    "            left += 1\n",
    "        else:\n",
    "            array[dest] = Aright[right]\n",
    "            right += 1\n",
    "        dest += 1\n",
    "    while left < n_left:\n",
    "        array[dest] = Aleft[left]\n",
    "        left += 1\n",
    "        dest += 1\n",
    "    while right < n_right:\n",
    "        array[dest] = Aright[right]\n",
    "        right += 1\n",
    "        dest += 1\n",
    "\n",
    "\n",
    "def mergesort_recursive(array, p, r, byfunc=None):\n",
    "    if r - p > 0:\n",
    "        middle = (p + r)//2\n",
    "        mergesort_recursive(array, p, middle, byfunc)\n",
    "        mergesort_recursive(array, middle + 1, r, byfunc)\n",
    "        if sorted(array, key=byfunc) == array:\n",
    "            return \n",
    "        # print(array)\n",
    "        merge(array, p, middle, r, byfunc)\n",
    "        # print(array)\n",
    "\n",
    "def mergesort(array, byfunc=None):\n",
    "    p = 0\n",
    "    r = len(array) - 1\n",
    "    if len(array) <= 1:\n",
    "        return array\n",
    "    else:\n",
    "        return mergesort_recursive(array, p, r, byfunc)\n",
    "    \n",
    "\n",
    "array = [(1, 2), (3, 2), (2, -1), (4, 7), (-1, -2)]\n",
    "# mergesort(array, lambda item: item[0])\n",
    "mergesort(array, lambda item: item[1])\n",
    "print(array)\n"
   ]
  },
  {
   "cell_type": "code",
   "execution_count": 3,
   "metadata": {},
   "outputs": [],
   "source": [
    "array = [(1, 2), (3, 2), (2, -1), (4, 7), (-1, -2)]\n",
    "mergesort(array, lambda item: item[0])\n",
    "assert array == [(-1, -2), (1, 2), (2, -1), (3, 2), (4, 7)]\n",
    "mergesort(array, lambda item: item[1])\n",
    "assert array == [(-1, -2), (2, -1), (1, 2), (3, 2), (4, 7)]"
   ]
  },
  {
   "cell_type": "markdown",
   "metadata": {},
   "source": [
    "**Q2.** Create a class called `EvaluateExpression` to evaluate mathematical expressions for Integers. The class has the following property:\n",
    "- `expression`: which is a property with a get and set method. The set method of this property should check if the string contains any invalid characters. If there is any invalid character, it should set the internal property `expr` to an empty String. Otherwise, it should set the string as it is. Valid characters are: `0123456789+-*/()` and an empty space.\n",
    "- `expr`: which is a property that stores only valid expression. It is used internally to store the expression.\n",
    "\n",
    "During object instantiation, a string can be passed on to `__init__()`.\n",
    "- `__init__(expr)`: where expr is the mathematical expression to initialize the property `expr`. If nothing is provided it should initialize to an empty String. If the string contains other characters besides those in the valid characters list above, the property `expr` should be initialized to an empty string.\n",
    "\n",
    "\n"
   ]
  },
  {
   "cell_type": "code",
   "execution_count": 4,
   "metadata": {},
   "outputs": [
    {
     "name": "stdout",
     "output_type": "stream",
     "text": [
      "3 * 4\n"
     ]
    }
   ],
   "source": [
    "class EvaluateExpression:\n",
    "  valid_char = '0123456789+-*/() '\n",
    "  def __init__(self, string=\"\"):\n",
    "    self._expression = string\n",
    "\n",
    "  @property\n",
    "  def expression(self):\n",
    "    return self._expression\n",
    "\n",
    "  @expression.setter\n",
    "  def expression(self, new_expr):\n",
    "    for i in new_expr:\n",
    "      if i not in self.valid_char:\n",
    "        new_expr = ''\n",
    "      else:\n",
    "        self._expression = new_expr\n",
    "\n",
    "expr1 = EvaluateExpression()\n",
    "expr2 = EvaluateExpression(\"1 + 2\")\n",
    "expr2.expression = \"3 * 4\"\n",
    "print(expr2.expression)"
   ]
  },
  {
   "cell_type": "code",
   "execution_count": 5,
   "metadata": {},
   "outputs": [],
   "source": [
    "expr1 = EvaluateExpression()\n",
    "assert expr1.expression == \"\"\n",
    "expr2 = EvaluateExpression(\"1 + 2\")\n",
    "assert expr2.expression == \"1 + 2\"\n",
    "expr2.expression = \"3 * 4\"\n",
    "assert expr2.expression == \"3 * 4\"\n",
    "expr2.expression = \"3 & 4\"\n",
    "assert expr2.expression == \"\""
   ]
  },
  {
   "cell_type": "markdown",
   "metadata": {},
   "source": [
    "**Q3.** The class `EvaluateExpression` also has the following method:\n",
    "- `insert_space()`: which is used to insert one empty space before an operator and another empty space after the operator in the `expression` property. The function should return a new String. Note that this means that if there are two operators side by side, there will be two empty space between them.\n",
    "\n"
   ]
  },
  {
   "cell_type": "code",
   "execution_count": 6,
   "metadata": {},
   "outputs": [
    {
     "name": "stdout",
     "output_type": "stream",
     "text": [
      " ( 1 + 2 ) \n"
     ]
    }
   ],
   "source": [
    "class EvaluateExpression:\n",
    "  # copy the other definitions\n",
    "  # from the previous parts\n",
    "\n",
    "  valid_char = '0123456789+-*/() '\n",
    "  operator = '+-*/()'\n",
    "\n",
    "  def __init__(self, string=\"\"):\n",
    "    self._expression = string\n",
    "\n",
    "  @property\n",
    "  def expression(self):\n",
    "    return self._expression\n",
    "\n",
    "  @expression.setter\n",
    "  def expression(self, new_expr):\n",
    "    for i in new_expr:\n",
    "      if i not in self.valid_char:\n",
    "        new_expr = ''\n",
    "      else:\n",
    "        self._expression = new_expr\n",
    "\n",
    "  def insert_space(self):\n",
    "    result = ''\n",
    "    for i in self._expression:\n",
    "      if i in self.operator:\n",
    "        result += f\" {i} \"\n",
    "      else:\n",
    "        result += i\n",
    "    return result\n",
    "\n",
    "  \n",
    "expr1 = EvaluateExpression(\"(1+2)\")\n",
    "print(expr1.insert_space() )"
   ]
  },
  {
   "cell_type": "code",
   "execution_count": 7,
   "metadata": {},
   "outputs": [],
   "source": [
    "expr1 = EvaluateExpression(\"(1+2)\")\n",
    "assert expr1.insert_space() == \" ( 1 + 2 ) \"\n",
    "expr1.expression = \"((1+2)*3/(4-5))\"\n",
    "assert expr1.insert_space() == \" (  ( 1 + 2 )  * 3 /  ( 4 - 5 )  ) \"\n"
   ]
  },
  {
   "cell_type": "markdown",
   "metadata": {},
   "source": [
    "## Week 4"
   ]
  },
  {
   "cell_type": "markdown",
   "metadata": {},
   "source": [
    "**Q4.** The class `EvaluateExpression` also has the following methods:\n",
    "- `process_operator(operand_stack, operator_stack)`: which process one operator. This method should modify the Stacks provided in the arguments. Note that the division operator `/` should be considered as an integer division for this exercise. This means that you need to use `//` in Python."
   ]
  },
  {
   "cell_type": "code",
   "execution_count": 8,
   "metadata": {},
   "outputs": [],
   "source": [
    "class Stack:\n",
    "    def __init__(self):\n",
    "        self.__items = []\n",
    "        \n",
    "    def push(self, item):\n",
    "        return self.__items.append(item)\n",
    "\n",
    "    def pop(self):\n",
    "        if self.size == 0:\n",
    "            return None\n",
    "        else:\n",
    "            return self.__items.pop()\n",
    "\n",
    "    def peek(self):\n",
    "        return self.__items[-1]\n",
    "\n",
    "    # @property\n",
    "    def is_empty(self):\n",
    "        return self.size() == 0\n",
    "\n",
    "    @property\n",
    "    def size(self):\n",
    "        return len(self.__items)\n",
    "    \n",
    "    def __str__(self):\n",
    "        return str(self.__items)\n"
   ]
  },
  {
   "cell_type": "code",
   "execution_count": 9,
   "metadata": {},
   "outputs": [
    {
     "name": "stdout",
     "output_type": "stream",
     "text": [
      "7\n"
     ]
    }
   ],
   "source": [
    "class EvaluateExpression:\n",
    "  # copy the other definitions\n",
    "  # from the previous parts\n",
    "\n",
    "\n",
    "  valid_char = '0123456789+-*/() '\n",
    "  operator = '+-*/()'\n",
    "\n",
    "  def __init__(self, string=\"\"):\n",
    "    self._expression = string\n",
    "\n",
    "  @property\n",
    "  def expression(self):\n",
    "    return self._expression\n",
    "\n",
    "  @expression.setter\n",
    "  def expression(self, new_expr):\n",
    "    for i in new_expr:\n",
    "      if i not in self.valid_char:\n",
    "        new_expr = ''\n",
    "      else:\n",
    "        self._expression = new_expr\n",
    "\n",
    "  def insert_space(self):\n",
    "    result = ''\n",
    "    for i in self._expression:\n",
    "      if i in self.operator:\n",
    "        result += f\" {i} \"\n",
    "      else:\n",
    "        result += i\n",
    "    return result\n",
    "\n",
    "\n",
    "  def process_operator(self, operand_stack, operator_stack):\n",
    "    element = operator_stack.pop()\n",
    "    operand2 = operand_stack.pop()\n",
    "    operand1 = operand_stack.pop()\n",
    "    if element == '+':\n",
    "      result = operand1 + operand2\n",
    "    elif element == '-':\n",
    "      result = operand1 - operand2\n",
    "    elif element == '*':\n",
    "      result = operand1 * operand2\n",
    "    elif element == '/':\n",
    "      result = operand1 // operand2\n",
    "    operand_stack.push(result)\n",
    "        \n",
    "        \n",
    "\n",
    "expr1 = EvaluateExpression()\n",
    "operand_stack = Stack()\n",
    "operator_stack = Stack()\n",
    "operand_stack.push(3)\n",
    "operand_stack.push(4)\n",
    "operator_stack.push(\"+\")\n",
    "expr1.process_operator(operand_stack, operator_stack)\n",
    "print(operand_stack.peek())\n",
    "  "
   ]
  },
  {
   "cell_type": "code",
   "execution_count": 10,
   "metadata": {},
   "outputs": [],
   "source": [
    "expr1 = EvaluateExpression()\n",
    "operand_stack = Stack()\n",
    "operator_stack = Stack()\n",
    "operand_stack.push(3)\n",
    "operand_stack.push(4)\n",
    "operator_stack.push(\"+\")\n",
    "expr1.process_operator(operand_stack, operator_stack)\n",
    "assert operand_stack.peek() == 7\n",
    "operand_stack.push(5)\n",
    "operator_stack.push(\"*\")\n",
    "expr1.process_operator(operand_stack, operator_stack)\n",
    "assert operand_stack.peek() == 35\n",
    "operand_stack.push(30)\n",
    "operator_stack.push(\"-\")\n",
    "expr1.process_operator(operand_stack, operator_stack)\n",
    "assert operand_stack.peek() == 5\n",
    "operand_stack.push(2)\n",
    "operator_stack.push(\"/\")\n",
    "expr1.process_operator(operand_stack, operator_stack)\n",
    "assert operand_stack.peek() == 2"
   ]
  },
  {
   "cell_type": "markdown",
   "metadata": {},
   "source": [
    "**Q5.** The class `EvaluateExpression` also has the following methods:\n",
    "- `evaluate()`: which evaluate the mathematical expression contained in the property `expression`. The method should return an Integer. This method contains two processes:\n",
    "    - Phase 1: In this phase, the code scans the expression from left to right to extract operands, operators, and the parentheses.\n",
    "        1. If the extracted character is an operand, push it to `operand_stack`.\n",
    "        1. If the extracted character is + or - operator, process  all the operators at the top of the `operator_stack` and push the extracted operator to `operator_stack`. You should process all the operators as long as the `operator_stack` is not empty and the top of the `operator_stack` is not `(` or `)` symbols.\n",
    "        1. If the extracted character is a `*` or `/` operator, process all the `*` or `/` operators at the top of the `operator_stack` and push the extracted operator to `operator_stack`. \n",
    "        1. If the extracted character is a `(` symbol, push it to `operator_stack`.\n",
    "        1. If the extracted character is a `)` symbol, repeatedly process the operators from the top of `operator_stack` until seeing the `(` symbol on the stack. \n",
    "    - Phase 2: Repeatedly process the operators from the top of `operator_stack` until `operator_stack` is empty.\n"
   ]
  },
  {
   "cell_type": "code",
   "execution_count": 14,
   "metadata": {},
   "outputs": [
    {
     "name": "stdout",
     "output_type": "stream",
     "text": [
      "[1, 2]\n",
      "['(', '+']\n",
      "3\n"
     ]
    }
   ],
   "source": [
    "class EvaluateExpression:\n",
    "  # copy the other definitions\n",
    "  # from the previous parts\n",
    "\n",
    "\n",
    "  valid_char = '0123456789+-*/() '\n",
    "  operator = '+-*/'\n",
    "  operand ='0123456789'\n",
    "  \n",
    "\n",
    "  def __init__(self, string=\"\"):\n",
    "      self._expression = string\n",
    "\n",
    "  @property\n",
    "  def expression(self):\n",
    "      return self._expression\n",
    "\n",
    "  @expression.setter\n",
    "  def expression(self, new_expr):\n",
    "      for i in new_expr:\n",
    "        if i not in self.valid_char:\n",
    "          new_expr = ''\n",
    "        else:\n",
    "          self._expression = new_expr\n",
    "\n",
    "  def insert_space(self):\n",
    "      result = ''\n",
    "      for i in self._expression:\n",
    "        if i in self.operator:\n",
    "          result += f\" {i} \"\n",
    "        else:\n",
    "          result += i\n",
    "      return result\n",
    "\n",
    "\n",
    "  def process_operator(self, operand_stack, operator_stack):\n",
    "      element = operator_stack.pop()\n",
    "      operand2 = operand_stack.pop()\n",
    "      print(operand2)\n",
    "      operand1 = operand_stack.pop()\n",
    "      print(operand1)\n",
    "      if element == '+':\n",
    "        result = operand1 + operand2\n",
    "      elif element == '-':\n",
    "        result = operand1 - operand2\n",
    "      elif element == '*':\n",
    "        result = operand1 * operand2\n",
    "      elif element == '/':\n",
    "        result = operand1 // operand2\n",
    "      operator_stack.pop(element)\n",
    "      operand_stack.pop()\n",
    "      operand_stack.pop()\n",
    "      operand_stack.push(result)\n",
    "    \n",
    "  # def precedence(self, operator):\n",
    "  #     if operator in ('+', '-'):\n",
    "  #         return 1\n",
    "  #     elif operator in ('*', '/'):\n",
    "  #         return 2\n",
    "  #     elif operator in (')'):\n",
    "  #         return 3\n",
    "  #     return 0\n",
    "   \n",
    "  \n",
    "  def evaluate(self):\n",
    "      operand_stack = Stack()\n",
    "      operator_stack = Stack()\n",
    "      expression = self.insert_space()\n",
    "      tokens = list(expression)\n",
    " \n",
    "      # print(tokens)\n",
    "      for i in tokens:\n",
    "          if i == ' ':\n",
    "             continue\n",
    "          elif i in self.operand:\n",
    "              operand_stack.push(int(i))  \n",
    "     \n",
    "          elif i == '+' or i == '-':\n",
    "          # while (not operator_stack.is_empty) and (operator_stack.peek() != '(' and operator_stack.peek() !=')'):\n",
    "              # while (not operator_stack.is_empty and operator_stack.peek() not in ('(', ')') and \n",
    "              #       self.precedence(operator_stack.peek()) >= self.precedence(i)):\n",
    "              while (not operator_stack.is_empty and operator_stack.peek() not in ('(', ')') ):\n",
    "                  self.process_operator(operand_stack, operator_stack)\n",
    "              operator_stack.push(i)\n",
    "\n",
    "          elif i == '*' or i == '/':\n",
    "              while not operator_stack.is_empty:\n",
    "                  self.process_operator(operand_stack, operator_stack)\n",
    "              operator_stack.push(i)\n",
    "\n",
    "             \n",
    "          elif i == '(':\n",
    "              operator_stack.push(i)\n",
    "\n",
    "  \n",
    "          elif i == ')':\n",
    "              print(operand_stack)\n",
    "              print(operator_stack)\n",
    "              while not operator_stack.is_empty and operator_stack.peek() != '(':\n",
    "                  self.process_operator(operand_stack, operator_stack)\n",
    "              # print(operand_stack) \n",
    "                  # operator_stack.pop()\n",
    "      # print(operator_stack) \n",
    "      # print(operator_stack.peek())\n",
    "      # print(operand_stack)\n",
    "\n",
    "            \n",
    "            \n",
    "      while not operator_stack.is_empty:\n",
    "          self.process_operator(operand_stack, operator_stack)\n",
    "      # print(operand_stack)\n",
    "      return operand_stack.pop()\n",
    "\n",
    "\n",
    "\n",
    "expr1 = EvaluateExpression(\"(1+2)*3\")\n",
    "print(expr1.evaluate())\n",
    "\n",
    "# # expr1.expression = \"(1 + 2) * 4 - 3\"\n",
    "# # expr1.evaluate() == 9\n",
    "\n",
    "    \n",
    "    "
   ]
  },
  {
   "cell_type": "code",
   "execution_count": 12,
   "metadata": {},
   "outputs": [
    {
     "name": "stdout",
     "output_type": "stream",
     "text": [
      "[1, 2]\n",
      "['(', '+']\n",
      "['(', '+', '*']\n",
      "*\n",
      "[1, 2, 3]\n",
      "[1, 2, 3]\n"
     ]
    },
    {
     "ename": "AssertionError",
     "evalue": "",
     "output_type": "error",
     "traceback": [
      "\u001b[1;31m---------------------------------------------------------------------------\u001b[0m",
      "\u001b[1;31mAssertionError\u001b[0m                            Traceback (most recent call last)",
      "\u001b[1;32mc:\\Users\\kenny\\Downloads\\d2w_mini_projects\\mp_calc\\mp2_exercises.ipynb Cell 19\u001b[0m line \u001b[0;36m2\n\u001b[0;32m      <a href='vscode-notebook-cell:/c%3A/Users/kenny/Downloads/d2w_mini_projects/mp_calc/mp2_exercises.ipynb#X24sZmlsZQ%3D%3D?line=0'>1</a>\u001b[0m expr1 \u001b[39m=\u001b[39m EvaluateExpression(\u001b[39m\"\u001b[39m\u001b[39m(1+2)*3\u001b[39m\u001b[39m\"\u001b[39m)\n\u001b[1;32m----> <a href='vscode-notebook-cell:/c%3A/Users/kenny/Downloads/d2w_mini_projects/mp_calc/mp2_exercises.ipynb#X24sZmlsZQ%3D%3D?line=1'>2</a>\u001b[0m \u001b[39massert\u001b[39;00m expr1\u001b[39m.\u001b[39mevaluate() \u001b[39m==\u001b[39m \u001b[39m9\u001b[39m\n\u001b[0;32m      <a href='vscode-notebook-cell:/c%3A/Users/kenny/Downloads/d2w_mini_projects/mp_calc/mp2_exercises.ipynb#X24sZmlsZQ%3D%3D?line=2'>3</a>\u001b[0m expr1\u001b[39m.\u001b[39mexpression \u001b[39m=\u001b[39m \u001b[39m\"\u001b[39m\u001b[39m(1 + 2) * 4 - 3\u001b[39m\u001b[39m\"\u001b[39m\n\u001b[0;32m      <a href='vscode-notebook-cell:/c%3A/Users/kenny/Downloads/d2w_mini_projects/mp_calc/mp2_exercises.ipynb#X24sZmlsZQ%3D%3D?line=3'>4</a>\u001b[0m \u001b[39massert\u001b[39;00m expr1\u001b[39m.\u001b[39mevaluate() \u001b[39m==\u001b[39m \u001b[39m9\u001b[39m\n",
      "\u001b[1;31mAssertionError\u001b[0m: "
     ]
    }
   ],
   "source": [
    "expr1 = EvaluateExpression(\"(1+2)*3\")\n",
    "assert expr1.evaluate() == 9\n",
    "expr1.expression = \"(1 + 2) * 4 - 3\"\n",
    "assert expr1.evaluate() == 9\n",
    "expr2 = EvaluateExpression(\"(1+2 *4-  3)* (7/5 * 6)\")\n",
    "assert expr2.evaluate() == 36"
   ]
  },
  {
   "cell_type": "code",
   "execution_count": null,
   "metadata": {},
   "outputs": [],
   "source": []
  },
  {
   "cell_type": "code",
   "execution_count": null,
   "metadata": {},
   "outputs": [],
   "source": []
  }
 ],
 "metadata": {
  "kernelspec": {
   "display_name": "Python 3 (ipykernel)",
   "language": "python",
   "name": "python3"
  },
  "language_info": {
   "codemirror_mode": {
    "name": "ipython",
    "version": 3
   },
   "file_extension": ".py",
   "mimetype": "text/x-python",
   "name": "python",
   "nbconvert_exporter": "python",
   "pygments_lexer": "ipython3",
   "version": "3.11.4"
  }
 },
 "nbformat": 4,
 "nbformat_minor": 4
}
